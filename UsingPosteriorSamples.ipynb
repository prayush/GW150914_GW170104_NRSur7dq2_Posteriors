{
 "cells": [
  {
   "cell_type": "markdown",
   "metadata": {},
   "source": [
    "## Interpreting posterior samples"
   ]
  },
  {
   "cell_type": "code",
   "execution_count": 1,
   "metadata": {
    "ExecuteTime": {
     "end_time": "2018-09-07T05:50:52.277252Z",
     "start_time": "2018-09-07T05:50:52.015185Z"
    }
   },
   "outputs": [
    {
     "name": "stdout",
     "output_type": "stream",
     "text": [
      "Populating the interactive namespace from numpy and matplotlib\n"
     ]
    }
   ],
   "source": [
    "import os\n",
    "import numpy as np\n",
    "import corner\n",
    "%pylab inline"
   ]
  },
  {
   "cell_type": "markdown",
   "metadata": {},
   "source": [
    "### Read and interpret data"
   ]
  },
  {
   "cell_type": "code",
   "execution_count": 2,
   "metadata": {
    "ExecuteTime": {
     "end_time": "2018-09-07T05:50:52.285037Z",
     "start_time": "2018-09-07T05:50:52.280708Z"
    }
   },
   "outputs": [],
   "source": [
    "BASEDIR = '/home/prayush/src/GW150914_GW170104_NRSur7dq2_Posteriors/'\n",
    "EVENTS = ['GW150914', 'GW170104']\n",
    "POSTERIORS = ['IMRPhenomPv2_RestrictedPriors.dat', 'NRSur7dq2HM_RestrictedPriors.dat']"
   ]
  },
  {
   "cell_type": "code",
   "execution_count": 3,
   "metadata": {
    "ExecuteTime": {
     "end_time": "2018-09-07T05:50:54.637942Z",
     "start_time": "2018-09-07T05:50:52.288442Z"
    }
   },
   "outputs": [],
   "source": [
    "data = {}\n",
    "for event in EVENTS:\n",
    "    data[event] = {}\n",
    "    for post in POSTERIORS:\n",
    "        samples_file = os.path.join(os.path.join(BASEDIR, event), post)\n",
    "        data[event][post] = np.genfromtxt(samples_file, names=True)"
   ]
  },
  {
   "cell_type": "code",
   "execution_count": 4,
   "metadata": {
    "ExecuteTime": {
     "end_time": "2018-09-07T05:50:54.646112Z",
     "start_time": "2018-09-07T05:50:54.641409Z"
    }
   },
   "outputs": [],
   "source": [
    "event = 'GW150914'\n",
    "post  = 'IMRPhenomPv2_RestrictedPriors.dat'\n",
    "dd0 = data[event][post]\n",
    "post  = 'NRSur7dq2HM_RestrictedPriors.dat'\n",
    "dd1 = data[event][post]"
   ]
  },
  {
   "cell_type": "code",
   "execution_count": 5,
   "metadata": {
    "ExecuteTime": {
     "end_time": "2018-09-07T05:50:54.686767Z",
     "start_time": "2018-09-07T05:50:54.650423Z"
    }
   },
   "outputs": [
    {
     "name": "stdout",
     "output_type": "stream",
     "text": [
      "Names of various parameters are as follows: \n",
      "('dist', 'ra', 'dec', 'psi', 'phi_jl', 'theta_jn', 'costheta_jn', 'm1', 'm2', 'mc', 'mtotal', 'eta', 'q', 'a1', 'a2', 'a1z', 'a2z', 'chi_eff', 'chi_tot', 'chi_p', 'phi12', 'tilt1', 'tilt2', 'costilt1', 'costilt2', 'mf', 'af')\n"
     ]
    }
   ],
   "source": [
    "print \"Names of various parameters are as follows: \\n\", dd0.dtype.names"
   ]
  },
  {
   "cell_type": "code",
   "execution_count": 6,
   "metadata": {
    "ExecuteTime": {
     "end_time": "2018-09-07T05:50:54.713515Z",
     "start_time": "2018-09-07T05:50:54.690599Z"
    }
   },
   "outputs": [
    {
     "name": "stdout",
     "output_type": "stream",
     "text": [
      "\n",
      "##########################################################\n",
      "####### INTERPRETATION OF VARIOUS PARAMETERS ABOVE #######\n",
      "##########################################################\n",
      "\n",
      "**dist** : luminosity distance to source\n",
      "\n",
      "**ra** : right ascension of source\n",
      "\n",
      "**dec** : declination of source\n",
      "\n",
      "**psi** : polarisation angle -- third Euler angle required to transform the tensor perturbation in the radiation frame to the detector frame.\n",
      "\n",
      "**phi_jl** : azimuthal angle between total angular momentum (j) and orbital angular momentum (l)\n",
      "\n",
      "**theta_jn** : angle between total angular momentum (j) and line of sight vector (N)\n",
      "\n",
      "**costheta_jn** : cosine of theta_jn\n",
      "\n",
      "**m1, m2** : mass1 and mass2 (detector frame)\n",
      "\n",
      "**mc** : chirp mass (detector frame)\n",
      "\n",
      "**mtotal** : total mass (detector frame)\n",
      "\n",
      "**eta** : dimensionless mass ratio -- m1 * m2 / (m1 + m2)^2\n",
      "\n",
      "**q** : mass ratio -- m1 / m2\n",
      "\n",
      "**a1, a2** : dimensionless spin magnitude of primary (more massive) and secondary objects\n",
      "\n",
      "**a1z, a2z** : z-component (along orbital angular momentum) at the instant when fGW = 20Hz\n",
      "\n",
      "**chi_eff** : mass weighted effective aligned-spin parameter\n",
      "\n",
      "**chi_tot** : total effective spin -- (m1*a1 + m2*a2) / (m1 + m2)\n",
      "\n",
      "**chi_p** : spin-precession effective parameter (defined in arXiv:1408.1810)\n",
      "\n",
      "**phi12** : azimuthal angle between primary and secondary spin\n",
      "\n",
      "**tilt1, tilt2** : the polar angle between spin1 / spin2 and the orbital angular momentum (l)\n",
      "\n",
      "**costilt1, costilt2** : cosine of tilt1 and tilt2 angles\n",
      "\n",
      "**mf** : final mass (detector frame)\n",
      "\n",
      "**af** : final spin\n",
      "\n"
     ]
    }
   ],
   "source": [
    "print \"\"\"\n",
    "##########################################################\n",
    "####### INTERPRETATION OF VARIOUS PARAMETERS ABOVE #######\n",
    "##########################################################\n",
    "\n",
    "**dist** : luminosity distance to source\n",
    "\n",
    "**ra** : right ascension of source\n",
    "\n",
    "**dec** : declination of source\n",
    "\n",
    "**psi** : polarisation angle -- third Euler angle required to transform the tensor perturbation in the radiation frame to the detector frame.\n",
    "\n",
    "**phi_jl** : azimuthal angle between total angular momentum (j) and orbital angular momentum (l)\n",
    "\n",
    "**theta_jn** : angle between total angular momentum (j) and line of sight vector (N)\n",
    "\n",
    "**costheta_jn** : cosine of theta_jn\n",
    "\n",
    "**m1, m2** : mass1 and mass2 (detector frame)\n",
    "\n",
    "**mc** : chirp mass (detector frame)\n",
    "\n",
    "**mtotal** : total mass (detector frame)\n",
    "\n",
    "**eta** : dimensionless mass ratio -- m1 * m2 / (m1 + m2)^2\n",
    "\n",
    "**q** : mass ratio -- m1 / m2\n",
    "\n",
    "**a1, a2** : dimensionless spin magnitude of primary (more massive) and secondary objects\n",
    "\n",
    "**a1z, a2z** : z-component (along orbital angular momentum) at the instant when fGW = 20Hz\n",
    "\n",
    "**chi_eff** : mass weighted effective aligned-spin parameter\n",
    "\n",
    "**chi_tot** : total effective spin -- (m1*a1 + m2*a2) / (m1 + m2)\n",
    "\n",
    "**chi_p** : spin-precession effective parameter (defined in arXiv:1408.1810)\n",
    "\n",
    "**phi12** : azimuthal angle between primary and secondary spin\n",
    "\n",
    "**tilt1, tilt2** : the polar angle between spin1 / spin2 and the orbital angular momentum (l)\n",
    "\n",
    "**costilt1, costilt2** : cosine of tilt1 and tilt2 angles\n",
    "\n",
    "**mf** : final mass (detector frame)\n",
    "\n",
    "**af** : final spin\n",
    "\"\"\""
   ]
  },
  {
   "cell_type": "markdown",
   "metadata": {},
   "source": [
    "### Sample visualizations"
   ]
  },
  {
   "cell_type": "code",
   "execution_count": 7,
   "metadata": {
    "ExecuteTime": {
     "end_time": "2018-09-07T05:50:55.072982Z",
     "start_time": "2018-09-07T05:50:54.717944Z"
    }
   },
   "outputs": [
    {
     "data": {
      "text/plain": [
       "<matplotlib.figure.Figure at 0x7f098a30fa50>"
      ]
     },
     "execution_count": 7,
     "metadata": {},
     "output_type": "execute_result"
    },
    {
     "data": {
      "text/plain": [
       "<matplotlib.axes._subplots.AxesSubplot at 0x7f098bd929d0>"
      ]
     },
     "execution_count": 7,
     "metadata": {},
     "output_type": "execute_result"
    },
    {
     "data": {
      "text/plain": [
       "Text(0.5,1,u'IMRPhenomPv2')"
      ]
     },
     "execution_count": 7,
     "metadata": {},
     "output_type": "execute_result"
    },
    {
     "data": {
      "text/plain": [
       "Text(0.5,0,u'inclination angle (rad)')"
      ]
     },
     "execution_count": 7,
     "metadata": {},
     "output_type": "execute_result"
    },
    {
     "data": {
      "text/plain": [
       "Text(0,0.5,u'Distance (Mpc)')"
      ]
     },
     "execution_count": 7,
     "metadata": {},
     "output_type": "execute_result"
    },
    {
     "data": {
      "text/plain": [
       "(0, 3.141592653589793)"
      ]
     },
     "execution_count": 7,
     "metadata": {},
     "output_type": "execute_result"
    },
    {
     "data": {
      "text/plain": [
       "(150, 750)"
      ]
     },
     "execution_count": 7,
     "metadata": {},
     "output_type": "execute_result"
    },
    {
     "data": {
      "text/plain": [
       "<matplotlib.axes._subplots.AxesSubplot at 0x7f098a30f090>"
      ]
     },
     "execution_count": 7,
     "metadata": {},
     "output_type": "execute_result"
    },
    {
     "data": {
      "text/plain": [
       "Text(0.5,1,u'NRSur7dq2HM')"
      ]
     },
     "execution_count": 7,
     "metadata": {},
     "output_type": "execute_result"
    },
    {
     "data": {
      "text/plain": [
       "Text(0.5,0,u'inclination angle (rad)')"
      ]
     },
     "execution_count": 7,
     "metadata": {},
     "output_type": "execute_result"
    },
    {
     "data": {
      "text/plain": [
       "(0, 3.141592653589793)"
      ]
     },
     "execution_count": 7,
     "metadata": {},
     "output_type": "execute_result"
    },
    {
     "data": {
      "text/plain": [
       "(150, 750)"
      ]
     },
     "execution_count": 7,
     "metadata": {},
     "output_type": "execute_result"
    },
    {
     "data": {
      "image/png": "[encoded data removed]",
      "text/plain": [
       "<matplotlib.figure.Figure at 0x7f098a30fa50>"
      ]
     },
     "metadata": {},
     "output_type": "display_data"
    }
   ],
   "source": [
    "## GW150914\n",
    "event = 'GW150914'\n",
    "post  = 'IMRPhenomPv2_RestrictedPriors.dat'\n",
    "dd0 = data[event][post]\n",
    "post  = 'NRSur7dq2HM_RestrictedPriors.dat'\n",
    "dd1 = data[event][post]\n",
    "\n",
    "\n",
    "figure(figsize=(10,4))\n",
    "subplot(121)\n",
    "_=hist2d(dd0['theta_jn'], dd0['dist'], bins=40)\n",
    "title('IMRPhenomPv2')\n",
    "xlabel('inclination angle (rad)')\n",
    "ylabel('Distance (Mpc)')\n",
    "xlim(0, np.pi)\n",
    "ylim(150, 750)\n",
    "\n",
    "subplot(122)\n",
    "_=hist2d(dd1['theta_jn'], dd1['dist'], bins=40)\n",
    "title('NRSur7dq2HM')\n",
    "xlabel('inclination angle (rad)')\n",
    "xlim(0, np.pi)\n",
    "ylim(150, 750)"
   ]
  },
  {
   "cell_type": "code",
   "execution_count": 8,
   "metadata": {
    "ExecuteTime": {
     "end_time": "2018-09-07T05:50:55.431321Z",
     "start_time": "2018-09-07T05:50:55.076790Z"
    }
   },
   "outputs": [
    {
     "data": {
      "text/plain": [
       "<matplotlib.figure.Figure at 0x7f098ce43e10>"
      ]
     },
     "execution_count": 8,
     "metadata": {},
     "output_type": "execute_result"
    },
    {
     "name": "stderr",
     "output_type": "stream",
     "text": [
      "/home/prayush/local/venv/pe_NRSur7dq2/lib/python2.7/site-packages/ipykernel_launcher.py:3: MatplotlibDeprecationWarning: pyplot.hold is deprecated.\n",
      "    Future behavior will be consistent with the long-time default:\n",
      "    plot commands add elements without first clearing the\n",
      "    Axes and/or Figure.\n",
      "  This is separate from the ipykernel package so we can avoid doing imports until\n",
      "/home/prayush/local/venv/pe_NRSur7dq2/local/lib/python2.7/site-packages/matplotlib/__init__.py:805: MatplotlibDeprecationWarning: axes.hold is deprecated. Please remove it from your matplotlibrc and/or style files.\n",
      "  mplDeprecation)\n",
      "/home/prayush/local/venv/pe_NRSur7dq2/local/lib/python2.7/site-packages/matplotlib/rcsetup.py:155: MatplotlibDeprecationWarning: axes.hold is deprecated, will be removed in 3.0\n",
      "  mplDeprecation)\n"
     ]
    },
    {
     "data": {
      "text/plain": [
       "<matplotlib.legend.Legend at 0x7f098c983710>"
      ]
     },
     "execution_count": 8,
     "metadata": {},
     "output_type": "execute_result"
    },
    {
     "data": {
      "text/plain": [
       "Text(0.5,0,u'Distance (Mpc)')"
      ]
     },
     "execution_count": 8,
     "metadata": {},
     "output_type": "execute_result"
    },
    {
     "data": {
      "image/png": "[encoded data removed]",
      "text/plain": [
       "<matplotlib.figure.Figure at 0x7f098ce43e10>"
      ]
     },
     "metadata": {},
     "output_type": "display_data"
    }
   ],
   "source": [
    "figure(figsize=(6,4))\n",
    "_=hist(dd0['dist'], bins=40, alpha=0.3, label='IMRPhenomPv2', normed=True)\n",
    "hold(True)\n",
    "_=hist(dd1['dist'], bins=40, alpha=0.3, label='NRSur7dq2HM', normed=True)\n",
    "legend(loc='best')\n",
    "xlabel('Distance (Mpc)')"
   ]
  },
  {
   "cell_type": "code",
   "execution_count": 9,
   "metadata": {
    "ExecuteTime": {
     "end_time": "2018-09-07T05:50:55.868199Z",
     "start_time": "2018-09-07T05:50:55.434381Z"
    }
   },
   "outputs": [
    {
     "data": {
      "text/plain": [
       "<matplotlib.figure.Figure at 0x7f098c95f110>"
      ]
     },
     "execution_count": 9,
     "metadata": {},
     "output_type": "execute_result"
    },
    {
     "data": {
      "text/plain": [
       "<matplotlib.axes._subplots.AxesSubplot at 0x7f098c95f490>"
      ]
     },
     "execution_count": 9,
     "metadata": {},
     "output_type": "execute_result"
    },
    {
     "data": {
      "text/plain": [
       "Text(0.5,1,u'IMRPhenomPv2')"
      ]
     },
     "execution_count": 9,
     "metadata": {},
     "output_type": "execute_result"
    },
    {
     "data": {
      "text/plain": [
       "Text(0.5,0,u'inclination angle (rad)')"
      ]
     },
     "execution_count": 9,
     "metadata": {},
     "output_type": "execute_result"
    },
    {
     "data": {
      "text/plain": [
       "Text(0,0.5,u'Distance (Mpc)')"
      ]
     },
     "execution_count": 9,
     "metadata": {},
     "output_type": "execute_result"
    },
    {
     "data": {
      "text/plain": [
       "(0, 3.141592653589793)"
      ]
     },
     "execution_count": 9,
     "metadata": {},
     "output_type": "execute_result"
    },
    {
     "data": {
      "text/plain": [
       "(250, 2000)"
      ]
     },
     "execution_count": 9,
     "metadata": {},
     "output_type": "execute_result"
    },
    {
     "data": {
      "text/plain": [
       "<matplotlib.axes._subplots.AxesSubplot at 0x7f098c9539d0>"
      ]
     },
     "execution_count": 9,
     "metadata": {},
     "output_type": "execute_result"
    },
    {
     "data": {
      "text/plain": [
       "Text(0.5,1,u'NRSur7dq2HM')"
      ]
     },
     "execution_count": 9,
     "metadata": {},
     "output_type": "execute_result"
    },
    {
     "data": {
      "text/plain": [
       "Text(0.5,0,u'inclination angle (rad)')"
      ]
     },
     "execution_count": 9,
     "metadata": {},
     "output_type": "execute_result"
    },
    {
     "data": {
      "text/plain": [
       "(0, 3.141592653589793)"
      ]
     },
     "execution_count": 9,
     "metadata": {},
     "output_type": "execute_result"
    },
    {
     "data": {
      "text/plain": [
       "(250, 2000)"
      ]
     },
     "execution_count": 9,
     "metadata": {},
     "output_type": "execute_result"
    },
    {
     "data": {
      "image/png": "[encoded data removed]",
      "text/plain": [
       "<matplotlib.figure.Figure at 0x7f098c95f110>"
      ]
     },
     "metadata": {},
     "output_type": "display_data"
    }
   ],
   "source": [
    "## GW170104\n",
    "event = 'GW170104'\n",
    "post  = 'IMRPhenomPv2_RestrictedPriors.dat'\n",
    "dd0 = data[event][post]\n",
    "post  = 'NRSur7dq2HM_RestrictedPriors.dat'\n",
    "dd1 = data[event][post]\n",
    "\n",
    "figure(figsize=(10,4))\n",
    "subplot(121)\n",
    "_=hist2d(dd0['theta_jn'], dd0['dist'], bins=40)\n",
    "title('IMRPhenomPv2')\n",
    "xlabel('inclination angle (rad)')\n",
    "ylabel('Distance (Mpc)')\n",
    "xlim(0, np.pi)\n",
    "ylim(250, 2000)\n",
    "\n",
    "subplot(122)\n",
    "_=hist2d(dd1['theta_jn'], dd1['dist'], bins=40)\n",
    "title('NRSur7dq2HM')\n",
    "xlabel('inclination angle (rad)')\n",
    "xlim(0, np.pi)\n",
    "ylim(250, 2000)"
   ]
  },
  {
   "cell_type": "code",
   "execution_count": 10,
   "metadata": {
    "ExecuteTime": {
     "end_time": "2018-09-07T05:50:56.272408Z",
     "start_time": "2018-09-07T05:50:55.872485Z"
    }
   },
   "outputs": [
    {
     "data": {
      "text/plain": [
       "<matplotlib.figure.Figure at 0x7f098bda7290>"
      ]
     },
     "execution_count": 10,
     "metadata": {},
     "output_type": "execute_result"
    },
    {
     "name": "stderr",
     "output_type": "stream",
     "text": [
      "/home/prayush/local/venv/pe_NRSur7dq2/lib/python2.7/site-packages/ipykernel_launcher.py:3: MatplotlibDeprecationWarning: pyplot.hold is deprecated.\n",
      "    Future behavior will be consistent with the long-time default:\n",
      "    plot commands add elements without first clearing the\n",
      "    Axes and/or Figure.\n",
      "  This is separate from the ipykernel package so we can avoid doing imports until\n"
     ]
    },
    {
     "data": {
      "text/plain": [
       "<matplotlib.legend.Legend at 0x7f098bd7fed0>"
      ]
     },
     "execution_count": 10,
     "metadata": {},
     "output_type": "execute_result"
    },
    {
     "data": {
      "text/plain": [
       "Text(0.5,0,u'Distance (Mpc)')"
      ]
     },
     "execution_count": 10,
     "metadata": {},
     "output_type": "execute_result"
    },
    {
     "data": {
      "image/png": "[encoded data removed]",
      "text/plain": [
       "<matplotlib.figure.Figure at 0x7f098bda7290>"
      ]
     },
     "metadata": {},
     "output_type": "display_data"
    }
   ],
   "source": [
    "figure(figsize=(6,4))\n",
    "_=hist(dd0['dist'], bins=40, alpha=0.3, label='IMRPhenomPv2', normed=True)\n",
    "hold(True)\n",
    "_=hist(dd1['dist'], bins=40, alpha=0.3, label='NRSur7dq2HM', normed=True)\n",
    "legend(loc='best')\n",
    "xlabel('Distance (Mpc)')"
   ]
  },
  {
   "cell_type": "code",
   "execution_count": null,
   "metadata": {},
   "outputs": [],
   "source": []
  }
 ],
 "metadata": {
  "kernelspec": {
   "display_name": "Python 2",
   "language": "python",
   "name": "python2"
  },
  "language_info": {
   "codemirror_mode": {
    "name": "ipython",
    "version": 2
   },
   "file_extension": ".py",
   "mimetype": "text/x-python",
   "name": "python",
   "nbconvert_exporter": "python",
   "pygments_lexer": "ipython2",
   "version": "2.7.6"
  },
  "latex_envs": {
   "bibliofile": "biblio.bib",
   "cite_by": "apalike",
   "current_citInitial": 1,
   "eqLabelWithNumbers": true,
   "eqNumInitial": 0
  },
  "toc": {
   "nav_menu": {},
   "number_sections": true,
   "sideBar": true,
   "skip_h1_title": false,
   "title_cell": "Table of Contents",
   "title_sidebar": "Contents",
   "toc_cell": false,
   "toc_position": {},
   "toc_section_display": true,
   "toc_window_display": false
  }
 },
 "nbformat": 4,
 "nbformat_minor": 2
}
